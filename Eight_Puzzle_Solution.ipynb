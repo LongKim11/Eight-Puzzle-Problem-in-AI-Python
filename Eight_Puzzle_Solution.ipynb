{
  "nbformat": 4,
  "nbformat_minor": 0,
  "metadata": {
    "colab": {
      "provenance": []
    },
    "kernelspec": {
      "name": "python3",
      "display_name": "Python 3"
    },
    "language_info": {
      "name": "python"
    }
  },
  "cells": [
    {
      "cell_type": "code",
      "source": [
        "from copy import deepcopy\n",
        "from graphviz import Digraph\n",
        "import random\n",
        "import time\n",
        "import matplotlib.pyplot as plt\n",
        "import numpy as np"
      ],
      "metadata": {
        "id": "V19t06rUMTiM"
      },
      "execution_count": 1,
      "outputs": []
    },
    {
      "cell_type": "code",
      "execution_count": 2,
      "metadata": {
        "id": "63jBec5LxLPt"
      },
      "outputs": [],
      "source": [
        "class Node:\n",
        "\n",
        "  def __init__(self, state, action = None, parent = None):\n",
        "    self.state = state\n",
        "    self.id = str(self)\n",
        "    self.action = action\n",
        "    self.parent = parent\n",
        "\n",
        "  def __str__(self):\n",
        "    result = ''\n",
        "    for i in range(3):\n",
        "      for j in range(3):\n",
        "        result += str((self.state[i][j]))\n",
        "      result += '\\n'\n",
        "    return result.replace('0', '_')\n",
        "\n",
        "  def get_blank_pos(self, state):\n",
        "    for i in range(3):\n",
        "      for j in range(3):\n",
        "        if state[i][j] == 0:\n",
        "          return i, j\n",
        "\n",
        "  def get_dst_pos(self, action, pi, pj):\n",
        "    if action == 'L':\n",
        "      pj += 1\n",
        "    elif action == 'R':\n",
        "      pj -= 1\n",
        "    elif action == 'U':\n",
        "      pi +=1\n",
        "    elif action == 'D':\n",
        "      pi -= 1\n",
        "    return pi, pj\n",
        "\n",
        "  def get_succ_by(self, state, action):\n",
        "    pi_blank, pj_blank = self.get_blank_pos(state)\n",
        "    pi_dst, pj_dst = self.get_dst_pos(action, pi_blank, pj_blank)\n",
        "\n",
        "    if (pi_dst >= 0 and pi_dst < 3) and (pj_dst >= 0 and pj_dst < 3):\n",
        "      if action == 'L':\n",
        "        state[pi_dst][pj_dst - 1] = state[pi_dst][pj_dst]\n",
        "      elif action == 'R':\n",
        "        state[pi_dst][pj_dst + 1] = state[pi_dst][pj_dst]\n",
        "      elif action == 'U':\n",
        "        state[pi_dst - 1][pj_dst] = state[pi_dst][pj_dst]\n",
        "      elif action == 'D':\n",
        "        state[pi_dst + 1][pj_dst] = state[pi_dst][pj_dst]\n",
        "      state[pi_dst][pj_dst] = 0\n",
        "      return state\n",
        "    return None\n",
        "\n",
        "  def get_successors(self):\n",
        "    result = []\n",
        "    for action in ['L', 'R', 'U', 'D']:\n",
        "      succ = self.get_succ_by(deepcopy(self.state), action)\n",
        "      if succ != None:\n",
        "        result.append(Node(succ, action, self))\n",
        "    return result\n",
        "\n",
        "  def get_parent(self):\n",
        "    return self.parent\n",
        "\n",
        "  def get_state(self):\n",
        "    return self.state\n",
        "\n",
        "  def get_id(self):\n",
        "    return self.id\n",
        "\n",
        "  def get_str(self):\n",
        "    return str(self)\n",
        "\n",
        "  def get_action(self):\n",
        "    return self.action\n",
        "\n",
        "  def get_heuristics(self):\n",
        "    distance_goal_1 = 0\n",
        "    distance_goal_2 = 0\n",
        "    for i in range(3):\n",
        "      for j in range(3):\n",
        "        if self.state[i][j] != 0:\n",
        "          x_goal_1, y_goal_1 = divmod(self.state[i][j] - 1, 3)\n",
        "          distance_goal_1 += abs(i - x_goal_1) + abs(j - y_goal_1)\n",
        "\n",
        "          x_goal_2, y_goal_2 = divmod(self.state[i][j], 3)\n",
        "          distance_goal_2 += abs(i - x_goal_2) + abs(j - y_goal_2)\n",
        "    if distance_goal_1 <= distance_goal_2:\n",
        "      return distance_goal_1\n",
        "    return distance_goal_2\n",
        "\n",
        "  def draw(self, dot):\n",
        "    dot.node(self.get_id(), self.get_str())\n",
        "    if self.parent != None:\n",
        "      dot.edge(self.parent.get_id(), self.get_id(), self.get_action())"
      ]
    },
    {
      "cell_type": "code",
      "source": [
        "class SearchStrategy:\n",
        "\n",
        "  def get_path(self, dst): # dst is passed as reference value\n",
        "    path = [dst]\n",
        "    while path[0].get_parent() != None:\n",
        "      path.insert(0, path[0].get_parent())\n",
        "    return path\n",
        "\n",
        "  def get_solution(self, dst): # dst is passed as reference value\n",
        "    path = self.get_path(dst)\n",
        "\n",
        "    dot = Digraph()\n",
        "    path[0].draw(dot)\n",
        "\n",
        "    actions = []\n",
        "\n",
        "    for i in range(1, len(path)):\n",
        "      action = path[i].get_action()\n",
        "      if action == 'L':\n",
        "        actions.append('Left')\n",
        "      elif action == 'R':\n",
        "        actions.append('Right')\n",
        "      if action == 'U':\n",
        "        actions.append('Up')\n",
        "      if action == 'D':\n",
        "        actions.append('Down')\n",
        "      path[i].draw(dot)\n",
        "\n",
        "    return actions, dot\n",
        "\n",
        "  def check_goal(self, node): # node is passed as reference value\n",
        "    goal = ['123\\n456\\n78_\\n', '_12\\n345\\n678\\n']\n",
        "    if str(node) in goal:\n",
        "      return True\n",
        "    return False\n",
        "\n",
        "  def search(self, src):\n",
        "    dot = Digraph()\n",
        "    expanded = []\n",
        "    frontier = []\n",
        "    actions = []\n",
        "    total_cost = []\n",
        "    return actions, total_cost, dot\n",
        "\n",
        "  def __str__(self):\n",
        "    return 'Executing Search Strategy'"
      ],
      "metadata": {
        "id": "xZYTC7EX1oCo"
      },
      "execution_count": 3,
      "outputs": []
    },
    {
      "cell_type": "code",
      "source": [
        "class BFS(SearchStrategy):\n",
        "\n",
        "  def search(self, src): # src is passed as 2D array\n",
        "    root = Node(src)\n",
        "\n",
        "    expanded = [] # a list stores string value of Node instance\n",
        "    frontier = [] # a queue stores reference value of Node instance\n",
        "\n",
        "    frontier.append(root)\n",
        "    while frontier:\n",
        "      node = frontier.pop(0)\n",
        "\n",
        "      expanded.append(str(node))\n",
        "\n",
        "      successors = node.get_successors() # successors is a list composed of Node instances\n",
        "      for succ in successors:\n",
        "        if str(succ) not in expanded:\n",
        "          if self.check_goal(succ):\n",
        "            actions, dot = self.get_solution(succ)\n",
        "            total_cost = len(expanded)\n",
        "            return actions, total_cost, dot\n",
        "          frontier.append(succ)\n",
        "    return None, None, None\n",
        "\n",
        "  def __str__(self):\n",
        "    return 'Executing BFS'"
      ],
      "metadata": {
        "id": "4LyOVURXNtxK"
      },
      "execution_count": 4,
      "outputs": []
    },
    {
      "cell_type": "code",
      "source": [
        "class AStar(SearchStrategy):\n",
        "\n",
        "  def search(self, src):\n",
        "    root = Node(src)\n",
        "\n",
        "    expanded = [] # a list stores string value of Node instance\n",
        "    frontier = [] # a priority queue stores reference value of Node instance\n",
        "\n",
        "    frontier.append((root, 0, root.get_heuristics()))\n",
        "    while frontier:\n",
        "      frontier.sort(key=lambda f: f[2])\n",
        "      node, g, f = frontier.pop(0)\n",
        "      if self.check_goal(node):\n",
        "        actions, dot = self.get_solution(node)\n",
        "        total_cost = len(expanded)\n",
        "        return actions, total_cost, dot\n",
        "      if str(node) in expanded:\n",
        "        continue\n",
        "      expanded.append(str(node))\n",
        "\n",
        "      successors = node.get_successors() # successors is a list composed of Node instances\n",
        "      for succ in successors:\n",
        "        if str(succ) not in expanded:\n",
        "          g_succ = g + 1\n",
        "          frontier.append((succ, g_succ, g_succ + succ.get_heuristics()))\n",
        "    return None, None, None\n",
        "\n",
        "  def __str__(self):\n",
        "    return 'Executing AStar'"
      ],
      "metadata": {
        "id": "UM2jJ334N_ZM"
      },
      "execution_count": 5,
      "outputs": []
    },
    {
      "cell_type": "code",
      "source": [
        "class EightPuzzle:\n",
        "\n",
        "  def solve(self, init_state, search_name): # init_state is passed as 2D array\n",
        "    if search_name == 'BFS':\n",
        "      bfs = BFS()\n",
        "      actions, total_cost, dot = bfs.search(init_state)\n",
        "      return actions, total_cost, dot\n",
        "    elif search_name == 'AStar':\n",
        "      astar = AStar()\n",
        "      actions, total_cost, dot = astar.search(init_state)\n",
        "      return actions, total_cost, dot"
      ],
      "metadata": {
        "id": "Uzeyh7NKOXw3"
      },
      "execution_count": 6,
      "outputs": []
    },
    {
      "cell_type": "code",
      "source": [
        "# init_state = [[1, 2, 3], [0, 4, 5], [7, 8, 6]]\n",
        "# ep = EightPuzzle()\n",
        "# actions, total_cost, dot = ep.solve(init_state, 'BFS')\n",
        "# print('Executing BFS')\n",
        "# print('List of actions =', actions)\n",
        "# print('Number of actions to reach goal =', len(actions))\n",
        "# print('Total cost =', total_cost)\n",
        "# dot\n",
        "\n",
        "init_state = [[1, 2, 3], [0, 4, 5], [7, 8, 6]]\n",
        "ep = EightPuzzle()\n",
        "actions, total_cost, dot = ep.solve(init_state, 'AStar')\n",
        "print('Executing AStar')\n",
        "print('List of actions =', actions)\n",
        "print('Number of actions to reach goal =', len(actions))\n",
        "print('Total cost =', total_cost)\n",
        "dot"
      ],
      "metadata": {
        "colab": {
          "base_uri": "https://localhost:8080/",
          "height": 705
        },
        "id": "W60Jvt7h9Tq8",
        "outputId": "11753068-0c20-4e33-aef0-954e05c2b667"
      },
      "execution_count": 7,
      "outputs": [
        {
          "output_type": "stream",
          "name": "stdout",
          "text": [
            "Executing AStar\n",
            "List of actions = ['Left', 'Left', 'Up']\n",
            "Number of actions to reach goal = 3\n",
            "Total cost = 3\n"
          ]
        },
        {
          "output_type": "execute_result",
          "data": {
            "image/svg+xml": "<?xml version=\"1.0\" encoding=\"UTF-8\" standalone=\"no\"?>\n<!DOCTYPE svg PUBLIC \"-//W3C//DTD SVG 1.1//EN\"\n \"http://www.w3.org/Graphics/SVG/1.1/DTD/svg11.dtd\">\n<!-- Generated by graphviz version 2.43.0 (0)\n -->\n<!-- Title: %3 Pages: 1 -->\n<svg width=\"62pt\" height=\"461pt\"\n viewBox=\"0.00 0.00 62.00 460.81\" xmlns=\"http://www.w3.org/2000/svg\" xmlns:xlink=\"http://www.w3.org/1999/xlink\">\n<g id=\"graph0\" class=\"graph\" transform=\"scale(1 1) rotate(0) translate(4 456.81)\">\n<title>%3</title>\n<polygon fill=\"white\" stroke=\"transparent\" points=\"-4,4 -4,-456.81 58,-456.81 58,4 -4,4\"/>\n<!-- 123\n_45\n786\n -->\n<g id=\"node1\" class=\"node\">\n<title>123\n_45\n786\n</title>\n<ellipse fill=\"none\" stroke=\"black\" cx=\"27\" cy=\"-415.34\" rx=\"27\" ry=\"37.45\"/>\n<text text-anchor=\"middle\" x=\"27\" y=\"-426.64\" font-family=\"Times,serif\" font-size=\"14.00\">123</text>\n<text text-anchor=\"middle\" x=\"27\" y=\"-411.64\" font-family=\"Times,serif\" font-size=\"14.00\">_45</text>\n<text text-anchor=\"middle\" x=\"27\" y=\"-396.64\" font-family=\"Times,serif\" font-size=\"14.00\">786</text>\n</g>\n<!-- 123\n4_5\n786\n -->\n<g id=\"node2\" class=\"node\">\n<title>123\n4_5\n786\n</title>\n<ellipse fill=\"none\" stroke=\"black\" cx=\"27\" cy=\"-289.38\" rx=\"27\" ry=\"37.45\"/>\n<text text-anchor=\"middle\" x=\"27\" y=\"-300.68\" font-family=\"Times,serif\" font-size=\"14.00\">123</text>\n<text text-anchor=\"middle\" x=\"27\" y=\"-285.68\" font-family=\"Times,serif\" font-size=\"14.00\">4_5</text>\n<text text-anchor=\"middle\" x=\"27\" y=\"-270.68\" font-family=\"Times,serif\" font-size=\"14.00\">786</text>\n</g>\n<!-- 123\n_45\n786\n&#45;&gt;123\n4_5\n786\n -->\n<g id=\"edge1\" class=\"edge\">\n<title>123\n_45\n786\n&#45;&gt;123\n4_5\n786\n</title>\n<path fill=\"none\" stroke=\"black\" d=\"M27,-377.82C27,-365.07 27,-350.58 27,-337.12\"/>\n<polygon fill=\"black\" stroke=\"black\" points=\"30.5,-337.07 27,-327.07 23.5,-337.07 30.5,-337.07\"/>\n<text text-anchor=\"middle\" x=\"31.5\" y=\"-348.66\" font-family=\"Times,serif\" font-size=\"14.00\">L</text>\n</g>\n<!-- 123\n45_\n786\n -->\n<g id=\"node3\" class=\"node\">\n<title>123\n45_\n786\n</title>\n<ellipse fill=\"none\" stroke=\"black\" cx=\"27\" cy=\"-163.43\" rx=\"27\" ry=\"37.45\"/>\n<text text-anchor=\"middle\" x=\"27\" y=\"-174.73\" font-family=\"Times,serif\" font-size=\"14.00\">123</text>\n<text text-anchor=\"middle\" x=\"27\" y=\"-159.73\" font-family=\"Times,serif\" font-size=\"14.00\">45_</text>\n<text text-anchor=\"middle\" x=\"27\" y=\"-144.73\" font-family=\"Times,serif\" font-size=\"14.00\">786</text>\n</g>\n<!-- 123\n4_5\n786\n&#45;&gt;123\n45_\n786\n -->\n<g id=\"edge2\" class=\"edge\">\n<title>123\n4_5\n786\n&#45;&gt;123\n45_\n786\n</title>\n<path fill=\"none\" stroke=\"black\" d=\"M27,-251.86C27,-239.12 27,-224.63 27,-211.17\"/>\n<polygon fill=\"black\" stroke=\"black\" points=\"30.5,-211.12 27,-201.12 23.5,-211.12 30.5,-211.12\"/>\n<text text-anchor=\"middle\" x=\"31.5\" y=\"-222.71\" font-family=\"Times,serif\" font-size=\"14.00\">L</text>\n</g>\n<!-- 123\n456\n78_\n -->\n<g id=\"node4\" class=\"node\">\n<title>123\n456\n78_\n</title>\n<ellipse fill=\"none\" stroke=\"black\" cx=\"27\" cy=\"-37.48\" rx=\"27\" ry=\"37.45\"/>\n<text text-anchor=\"middle\" x=\"27\" y=\"-48.78\" font-family=\"Times,serif\" font-size=\"14.00\">123</text>\n<text text-anchor=\"middle\" x=\"27\" y=\"-33.78\" font-family=\"Times,serif\" font-size=\"14.00\">456</text>\n<text text-anchor=\"middle\" x=\"27\" y=\"-18.78\" font-family=\"Times,serif\" font-size=\"14.00\">78_</text>\n</g>\n<!-- 123\n45_\n786\n&#45;&gt;123\n456\n78_\n -->\n<g id=\"edge3\" class=\"edge\">\n<title>123\n45_\n786\n&#45;&gt;123\n456\n78_\n</title>\n<path fill=\"none\" stroke=\"black\" d=\"M27,-125.91C27,-113.16 27,-98.68 27,-85.21\"/>\n<polygon fill=\"black\" stroke=\"black\" points=\"30.5,-85.16 27,-75.16 23.5,-85.16 30.5,-85.16\"/>\n<text text-anchor=\"middle\" x=\"32\" y=\"-96.75\" font-family=\"Times,serif\" font-size=\"14.00\">U</text>\n</g>\n</g>\n</svg>\n",
            "text/plain": [
              "<graphviz.graphs.Digraph at 0x7d7e8a70b490>"
            ]
          },
          "metadata": {},
          "execution_count": 7
        }
      ]
    },
    {
      "cell_type": "code",
      "source": [
        "def random_state(src, n):\n",
        "  root = Node(src)\n",
        "  expanded = []\n",
        "  frontier = []\n",
        "  rand_state = []\n",
        "\n",
        "  frontier.append(root)\n",
        "  while True:\n",
        "    if len(rand_state) >= n:\n",
        "      return rand_state[0: n]\n",
        "\n",
        "    node = frontier.pop(0)\n",
        "    expanded.append(str(node))\n",
        "\n",
        "    successors = node.get_successors()\n",
        "    for succ in successors:\n",
        "      if str(succ) not in expanded:\n",
        "        succ_state = succ.get_state()\n",
        "        if succ_state not in rand_state:\n",
        "          rand_state.append(succ_state)\n",
        "        frontier.append(succ)\n",
        "\n",
        "start_state1 = [[1, 2, 3],[4, 5, 6],[7, 8, 0]]\n",
        "start_state2 = [[0, 1, 2], [3, 4, 5],[6, 7, 8]]\n",
        "\n",
        "random_state1 = random_state(start_state1, 500)\n",
        "random_state2 = random_state(start_state2, 500)\n",
        "\n",
        "rand_state = random_state1 + random_state2 # List of 1000 random state"
      ],
      "metadata": {
        "id": "Jd7KqNDG2fWt"
      },
      "execution_count": 8,
      "outputs": []
    },
    {
      "cell_type": "code",
      "source": [
        "# BFS measuring\n",
        "total_cost_bfs = []\n",
        "running_time_bfs = []\n",
        "\n",
        "ep = EightPuzzle()\n",
        "for ele in rand_state:\n",
        "\n",
        "    start_time_bfs = time.time()\n",
        "    actions, total_cost, dot = ep.solve(ele, 'BFS')\n",
        "    end_time_bfs = time.time()\n",
        "\n",
        "    running_time_bfs.append((end_time_bfs - start_time_bfs) * 1000)\n",
        "\n",
        "    total_cost_bfs.append(total_cost)\n",
        "\n",
        "avg_cost_bfs = sum(total_cost_bfs) // 1000\n",
        "total_running_time_bfs = sum(running_time_bfs)\n",
        "\n",
        "# print(running_time_bfs)\n",
        "# print(total_cost_bfs)\n",
        "# print(len(running_time_bfs))\n",
        "# print(len(total_cost_bfs))\n",
        "print('Evaluate BFS performance as looking solution for 1000 random states')\n",
        "print('Total running time in miliseconds =', total_running_time_bfs)\n",
        "print('Average total path cost =', avg_cost_bfs)"
      ],
      "metadata": {
        "id": "bRUtqwrtB48r",
        "outputId": "2eed1869-e389-4d9c-dd17-3c7f84ce1ccb",
        "colab": {
          "base_uri": "https://localhost:8080/"
        }
      },
      "execution_count": 9,
      "outputs": [
        {
          "output_type": "stream",
          "name": "stdout",
          "text": [
            "Evaluate BFS performance as looking solution for 1000 random states\n",
            "Total running time in miliseconds = 17291.450262069702\n",
            "Average total path cost = 182\n"
          ]
        }
      ]
    },
    {
      "cell_type": "code",
      "source": [
        "# AStar measuring\n",
        "total_cost_astar = []\n",
        "running_time_astar = []\n",
        "\n",
        "ep = EightPuzzle()\n",
        "for ele in rand_state:\n",
        "\n",
        "    start_time_astar = time.time()\n",
        "    actions, total_cost, dot = ep.solve(ele, 'AStar')\n",
        "    end_time_astar = time.time()\n",
        "\n",
        "    running_time_astar.append((end_time_astar - start_time_astar) * 1000)\n",
        "\n",
        "    total_cost_astar.append(total_cost)\n",
        "\n",
        "avg_cost_astar = sum(total_cost_astar) // 1000\n",
        "total_running_time_astar = sum(running_time_astar)\n",
        "\n",
        "#print(running_time_astar)\n",
        "# print(total_cost_astar)\n",
        "# print(len(running_time_astar))\n",
        "# print(len(total_cost_astar))\n",
        "print('Evaluate AStar performance as looking solution for 1000 random states')\n",
        "print('Total running time in miliseconds =', total_running_time_astar)\n",
        "print('Average total path cost =', avg_cost_astar)"
      ],
      "metadata": {
        "id": "7Cr4HXw4Gcar",
        "outputId": "5c006f11-f55a-4791-b574-c460f89f1991",
        "colab": {
          "base_uri": "https://localhost:8080/"
        }
      },
      "execution_count": 10,
      "outputs": [
        {
          "output_type": "stream",
          "name": "stdout",
          "text": [
            "Evaluate AStar performance as looking solution for 1000 random states\n",
            "Total running time in miliseconds = 2146.162271499634\n",
            "Average total path cost = 11\n"
          ]
        }
      ]
    },
    {
      "cell_type": "code",
      "source": [
        "fig, (ax1, ax2) = plt.subplots(2, figsize=(20, 12))\n",
        "\n",
        "n_total_cost_bfs = total_cost_bfs[50: 100]\n",
        "n_total_cost_astar = total_cost_astar[50: 100]\n",
        "\n",
        "x1_axis = np.arange(1, len(n_total_cost_bfs) + 1)\n",
        "\n",
        "ax1.bar(x1_axis - 0.2, n_total_cost_bfs, 0.4, label='BFS')\n",
        "ax1.bar(x1_axis + 0.2, n_total_cost_astar, 0.4, label='AStar')\n",
        "\n",
        "n = [i for i in range(1, len(n_total_cost_bfs) + 1)]\n",
        "ax1.set_xticks(n)\n",
        "\n",
        "ax1.set_xlabel('State n')\n",
        "ax1.set_ylabel('Total cost')\n",
        "ax1.legend(loc='upper left')\n",
        "\n",
        "n_running_time_bfs = running_time_bfs[50: 100]\n",
        "n_running_time_astar = running_time_astar[50: 100]\n",
        "\n",
        "x2_axis = np.arange(1, len(n_running_time_bfs) + 1)\n",
        "\n",
        "ax2.bar(x2_axis - 0.2, n_running_time_bfs, 0.4, label='BFS')\n",
        "ax2.bar(x2_axis + 0.2, n_running_time_astar, 0.4, label='AStar')\n",
        "\n",
        "n = [i for i in range(1, len(n_running_time_bfs) + 1)]\n",
        "ax2.set_xticks(n)\n",
        "\n",
        "ax2.set_xlabel('State n')\n",
        "ax2.set_ylabel('Running time (miliseconds)')\n",
        "ax2.legend(loc='upper left')\n",
        "fig.suptitle('Evaluate the performance of BFS and AStar ')\n",
        "\n",
        "fig.show()"
      ],
      "metadata": {
        "colab": {
          "base_uri": "https://localhost:8080/",
          "height": 1000
        },
        "id": "pmemfpFqdfM7",
        "outputId": "71043837-6cb6-4159-fe3e-54436d014cad"
      },
      "execution_count": 11,
      "outputs": [
        {
          "output_type": "display_data",
          "data": {
            "text/plain": [
              "<Figure size 2000x1200 with 2 Axes>"
            ],
            "image/png": "[encoded data removed]"
          },
          "metadata": {}
        }
      ]
    }
  ]
}